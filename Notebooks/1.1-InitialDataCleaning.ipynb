{
 "cells": [
  {
   "cell_type": "markdown",
   "metadata": {},
   "source": [
    "# Initial data cleaning\n",
    "\n",
    "In this notebook we will clean and prepare the data for the analysis. We will perform the following steps:\n",
    "\n",
    "1. Load the data\n",
    "2. Eliminate irrelevant columns\n",
    "3. Check for missing values\n",
    "4. Handle missing values\n",
    "5. Check unique values per column and filter categorical data\n",
    "6. Save the clean data"
   ]
  },
  {
   "cell_type": "code",
   "execution_count": 1,
   "metadata": {},
   "outputs": [
    {
     "name": "stderr",
     "output_type": "stream",
     "text": [
      "c:\\Users\\juanj\\OneDrive - UPB\\Estructurados\\Final\\.venv\\Lib\\site-packages\\tqdm\\auto.py:21: TqdmWarning: IProgress not found. Please update jupyter and ipywidgets. See https://ipywidgets.readthedocs.io/en/stable/user_install.html\n",
      "  from .autonotebook import tqdm as notebook_tqdm\n"
     ]
    }
   ],
   "source": [
    "# Importing libraries\n",
    "\n",
    "import numpy as np\n",
    "import pandas as pd\n",
    "import seaborn as sns\n",
    "import matplotlib.pyplot as plt\n",
    "from ydata_profiling import ProfileReport\n",
    "\n",
    "sns.set_style(\"darkgrid\")\n",
    "sns.set_palette(\"Set1\")"
   ]
  },
  {
   "cell_type": "code",
   "execution_count": 2,
   "metadata": {},
   "outputs": [],
   "source": [
    "# Load data and eliminate irrelevant columns\n",
    "\n",
    "df_train = pd.read_csv(\"../Data/Raw/train.csv\")\n",
    "df_test = pd.read_csv(\"../Data/Raw/test.csv\")\n",
    "df_train = df_train.drop(columns=\"id\")\n",
    "df_test = df_test.drop(columns=\"id\")"
   ]
  },
  {
   "cell_type": "code",
   "execution_count": 3,
   "metadata": {},
   "outputs": [
    {
     "name": "stdout",
     "output_type": "stream",
     "text": [
      "<class 'pandas.core.frame.DataFrame'>\n",
      "RangeIndex: 3116945 entries, 0 to 3116944\n",
      "Data columns (total 21 columns):\n",
      " #   Column                Dtype   \n",
      "---  ------                -----   \n",
      " 0   class                 category\n",
      " 1   cap-diameter          float64 \n",
      " 2   cap-shape             category\n",
      " 3   cap-surface           category\n",
      " 4   cap-color             category\n",
      " 5   does-bruise-or-bleed  category\n",
      " 6   gill-attachment       category\n",
      " 7   gill-spacing          category\n",
      " 8   gill-color            category\n",
      " 9   stem-height           float64 \n",
      " 10  stem-width            float64 \n",
      " 11  stem-root             category\n",
      " 12  stem-surface          category\n",
      " 13  stem-color            category\n",
      " 14  veil-type             category\n",
      " 15  veil-color            category\n",
      " 16  has-ring              category\n",
      " 17  ring-type             category\n",
      " 18  spore-print-color     category\n",
      " 19  habitat               category\n",
      " 20  season                category\n",
      "dtypes: category(18), float64(3)\n",
      "memory usage: 124.9 MB\n"
     ]
    }
   ],
   "source": [
    "# Data type correction\n",
    "\n",
    "types = {column: 'category' for column in df_train.columns if df_train[column].dtype == 'object'}\n",
    "df_train = df_train.astype(types)\n",
    "types.pop(\"class\")\n",
    "df_test = df_test.astype(types)\n",
    "df_train.info()"
   ]
  },
  {
   "cell_type": "code",
   "execution_count": 4,
   "metadata": {},
   "outputs": [
    {
     "data": {
      "text/plain": [
       "class                    0.000000\n",
       "cap-diameter             0.000128\n",
       "cap-shape                0.001283\n",
       "cap-surface             21.528227\n",
       "cap-color                0.000385\n",
       "does-bruise-or-bleed     0.000257\n",
       "gill-attachment         16.809280\n",
       "gill-spacing            40.373988\n",
       "gill-color               0.001829\n",
       "stem-height              0.000000\n",
       "stem-width               0.000000\n",
       "stem-root               88.452732\n",
       "stem-surface            63.551362\n",
       "stem-color               0.001219\n",
       "veil-type               94.884350\n",
       "veil-color              87.936970\n",
       "has-ring                 0.000770\n",
       "ring-type                4.134818\n",
       "spore-print-color       91.425482\n",
       "habitat                  0.001444\n",
       "season                   0.000000\n",
       "dtype: float64"
      ]
     },
     "execution_count": 4,
     "metadata": {},
     "output_type": "execute_result"
    }
   ],
   "source": [
    "# Checking missing values per column\n",
    "\n",
    "missing = df_train.isna().mean() * 100\n",
    "missing"
   ]
  },
  {
   "cell_type": "markdown",
   "metadata": {},
   "source": [
    "### Missing values conclussion:\n",
    "\n",
    "As seen in the missing values analysis, there are columns missing a lot of values. We will drop any column with more than 30% missing values. We will then drop all the rows with missing values as there is a lot of data and we can afford to lose some of it."
   ]
  },
  {
   "cell_type": "code",
   "execution_count": 5,
   "metadata": {},
   "outputs": [],
   "source": [
    "high_missing = df_train.columns[missing > 30]\n",
    "\n",
    "df_train = df_train.drop(columns=high_missing)\n",
    "df_test = df_test.drop(columns=high_missing)\n",
    "\n",
    "df_train = df_train.dropna()\n",
    "df_test = df_test.dropna()"
   ]
  },
  {
   "cell_type": "code",
   "execution_count": 6,
   "metadata": {},
   "outputs": [
    {
     "name": "stdout",
     "output_type": "stream",
     "text": [
      "<class 'pandas.core.frame.DataFrame'>\n",
      "Index: 1930108 entries, 0 to 3116944\n",
      "Data columns (total 15 columns):\n",
      " #   Column                Dtype   \n",
      "---  ------                -----   \n",
      " 0   class                 category\n",
      " 1   cap-diameter          float64 \n",
      " 2   cap-shape             category\n",
      " 3   cap-surface           category\n",
      " 4   cap-color             category\n",
      " 5   does-bruise-or-bleed  category\n",
      " 6   gill-attachment       category\n",
      " 7   gill-color            category\n",
      " 8   stem-height           float64 \n",
      " 9   stem-width            float64 \n",
      " 10  stem-color            category\n",
      " 11  has-ring              category\n",
      " 12  ring-type             category\n",
      " 13  habitat               category\n",
      " 14  season                category\n",
      "dtypes: category(12), float64(3)\n",
      "memory usage: 81.0 MB\n"
     ]
    }
   ],
   "source": [
    "df_train.info()"
   ]
  },
  {
   "cell_type": "markdown",
   "metadata": {},
   "source": [
    "### Checking unique values per column"
   ]
  },
  {
   "cell_type": "code",
   "execution_count": 7,
   "metadata": {},
   "outputs": [
    {
     "name": "stdout",
     "output_type": "stream",
     "text": [
      "cap-shape: 48\n",
      "cap-surface: 76\n",
      "cap-color: 52\n",
      "does-bruise-or-bleed: 21\n",
      "gill-attachment: 64\n",
      "gill-color: 49\n",
      "stem-color: 50\n",
      "has-ring: 18\n",
      "ring-type: 37\n",
      "habitat: 43\n",
      "season: 4\n"
     ]
    }
   ],
   "source": [
    "categorical = df_train.select_dtypes(include=\"category\").columns.drop(\"class\")\n",
    "\n",
    "for column in categorical:\n",
    "    unique = df_train[column].nunique()\n",
    "    print(f\"{column}: {unique}\")"
   ]
  },
  {
   "cell_type": "code",
   "execution_count": 8,
   "metadata": {},
   "outputs": [
    {
     "name": "stdout",
     "output_type": "stream",
     "text": [
      "\n",
      "Rows per category in: \n",
      "cap-shape\n",
      "x    983649\n",
      "f    450586\n",
      "s    239475\n",
      "b    127770\n",
      "p     56234\n",
      "c     55885\n",
      "o     16166\n",
      "d        48\n",
      "e        34\n",
      "n        28\n",
      "Name: count, dtype: int64\n",
      "\n",
      "Rows per category in: \n",
      "cap-surface\n",
      "t    406544\n",
      "s    343735\n",
      "h    217348\n",
      "g    203429\n",
      "d    197858\n",
      "y    185567\n",
      "e     87558\n",
      "w     85703\n",
      "k     85415\n",
      "i     71639\n",
      "Name: count, dtype: int64\n",
      "\n",
      "Rows per category in: \n",
      "cap-color\n",
      "n    866525\n",
      "w    240022\n",
      "y    207793\n",
      "e    137490\n",
      "o    134369\n",
      "g     80768\n",
      "p     78930\n",
      "k     45505\n",
      "r     41267\n",
      "u     40346\n",
      "Name: count, dtype: int64\n",
      "\n",
      "Rows per category in: \n",
      "does-bruise-or-bleed\n",
      "f    1529827\n",
      "t     400216\n",
      "h          9\n",
      "w          9\n",
      "c          7\n",
      "a          6\n",
      "y          4\n",
      "b          4\n",
      "d          4\n",
      "p          3\n",
      "Name: count, dtype: int64\n",
      "\n",
      "Rows per category in: \n",
      "gill-attachment\n",
      "a    512171\n",
      "d    418865\n",
      "x    258594\n",
      "s    241767\n",
      "e    238960\n",
      "p    226445\n",
      "f     32915\n",
      "c        55\n",
      "u        42\n",
      "t        32\n",
      "Name: count, dtype: int64\n",
      "\n",
      "Rows per category in: \n",
      "gill-color\n",
      "w    586808\n",
      "n    364863\n",
      "y    336556\n",
      "p    281212\n",
      "o    103729\n",
      "g    102482\n",
      "e     37248\n",
      "f     32747\n",
      "r     28930\n",
      "k     28140\n",
      "Name: count, dtype: int64\n",
      "\n",
      "Rows per category in: \n",
      "stem-color\n",
      "n    683964\n",
      "w    640535\n",
      "y    213286\n",
      "o     96316\n",
      "g     88669\n",
      "e     76399\n",
      "p     44885\n",
      "k     33534\n",
      "u     27396\n",
      "r     19060\n",
      "Name: count, dtype: int64\n",
      "\n",
      "Rows per category in: \n",
      "has-ring\n",
      "f    1529218\n",
      "t     400815\n",
      "r         15\n",
      "p          9\n",
      "l          9\n",
      "h          8\n",
      "s          7\n",
      "x          5\n",
      "c          5\n",
      "e          4\n",
      "Name: count, dtype: int64\n",
      "\n",
      "Rows per category in: \n",
      "ring-type\n",
      "f    1567358\n",
      "e      93522\n",
      "z      80848\n",
      "r      67728\n",
      "p      57506\n",
      "l      55802\n",
      "g       7008\n",
      "t         60\n",
      "m         58\n",
      "d         29\n",
      "Name: count, dtype: int64\n",
      "\n",
      "Rows per category in: \n",
      "habitat\n",
      "d    1297665\n",
      "g     266164\n",
      "m     127581\n",
      "l     112713\n",
      "h     101856\n",
      "w      18495\n",
      "u       5229\n",
      "p         75\n",
      "e         40\n",
      "s         40\n",
      "Name: count, dtype: int64\n",
      "\n",
      "Rows per category in: \n",
      "season\n",
      "a    961495\n",
      "u    734524\n",
      "w    172904\n",
      "s     61185\n",
      "Name: count, dtype: int64\n"
     ]
    }
   ],
   "source": [
    "for column in categorical:\n",
    "    print(f\"\\nRows per category in: \\n{df_train[column].value_counts().head(10)}\")"
   ]
  },
  {
   "cell_type": "markdown",
   "metadata": {},
   "source": [
    "### Unique values conclussion:\n",
    "\n",
    "Here it is clear that there are columns with a lot of unique values and most of that unique values only appear a couple of times. To reduce the amount of unique values we will unify all categories with less than 70 appearances into a new category called 'Other'."
   ]
  },
  {
   "cell_type": "code",
   "execution_count": 9,
   "metadata": {},
   "outputs": [],
   "source": [
    "def unify_categories(df, column, threshold=70):\n",
    "    counts = df[column].value_counts()\n",
    "    infrequent = counts[counts <= threshold].index\n",
    "    df[column] = df[column].apply(lambda x: \"Other\" if x in infrequent else x)\n",
    "    return df\n",
    "\n",
    "for column in categorical:\n",
    "    df_train = unify_categories(df_train, column)\n",
    "    df_test = unify_categories(df_test, column)"
   ]
  },
  {
   "cell_type": "code",
   "execution_count": 10,
   "metadata": {},
   "outputs": [
    {
     "name": "stdout",
     "output_type": "stream",
     "text": [
      "cap-shape: 8\n",
      "cap-surface: 13\n",
      "cap-color: 13\n",
      "does-bruise-or-bleed: 3\n",
      "gill-attachment: 8\n",
      "gill-color: 13\n",
      "stem-color: 13\n",
      "has-ring: 3\n",
      "ring-type: 8\n",
      "habitat: 9\n",
      "season: 4\n"
     ]
    }
   ],
   "source": [
    "# After unifying categories\n",
    "\n",
    "for column in categorical:\n",
    "    unique = df_train[column].nunique()\n",
    "    print(f\"{column}: {unique}\")"
   ]
  },
  {
   "cell_type": "code",
   "execution_count": 11,
   "metadata": {},
   "outputs": [],
   "source": [
    "# Duplicate removal\n",
    "\n",
    "df_train = df_train.drop_duplicates()\n",
    "df_test = df_test.drop_duplicates()"
   ]
  },
  {
   "cell_type": "code",
   "execution_count": 12,
   "metadata": {},
   "outputs": [],
   "source": [
    "df_train.to_csv(\"../Data/PartiallyClean/train.csv\", index=False)\n",
    "df_test.to_csv(\"../Data/PartiallyClean/test.csv\", index=False)"
   ]
  }
 ],
 "metadata": {
  "kernelspec": {
   "display_name": ".venv",
   "language": "python",
   "name": "python3"
  },
  "language_info": {
   "codemirror_mode": {
    "name": "ipython",
    "version": 3
   },
   "file_extension": ".py",
   "mimetype": "text/x-python",
   "name": "python",
   "nbconvert_exporter": "python",
   "pygments_lexer": "ipython3",
   "version": "3.11.5"
  }
 },
 "nbformat": 4,
 "nbformat_minor": 2
}
