{
 "cells": [
  {
   "cell_type": "markdown",
   "metadata": {},
   "source": [
    "# Exploratory data analysis and finalization of data cleaning process\n",
    "\n",
    "All the figures will be saved at the [`Reports/Figures/`](https://github.com/faendal/MushroomEdibilityPrediction/tree/main/Reports/Figures) directory of the project.\n",
    "\n",
    "The profiling report will be saved at the [`Reports/`](https://github.com/faendal/MushroomEdibilityPrediction/tree/main/Reports) directory of the project."
   ]
  }
 ],
 "metadata": {
  "kernelspec": {
   "display_name": ".venv",
   "language": "python",
   "name": "python3"
  },
  "language_info": {
   "name": "python",
   "version": "3.11.5"
  }
 },
 "nbformat": 4,
 "nbformat_minor": 2
}
