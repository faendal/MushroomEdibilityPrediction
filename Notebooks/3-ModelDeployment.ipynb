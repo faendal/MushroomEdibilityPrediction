{
 "cells": [
  {
   "cell_type": "code",
   "execution_count": 4,
   "metadata": {},
   "outputs": [],
   "source": [
    "import pickle\n",
    "import pandas as pd\n",
    "import urllib.request\n",
    "import streamlit as st"
   ]
  },
  {
   "cell_type": "code",
   "execution_count": 2,
   "metadata": {},
   "outputs": [],
   "source": [
    "%%bash\n",
    "nohup streamlit run app.py &"
   ]
  },
  {
   "cell_type": "code",
   "execution_count": 8,
   "metadata": {},
   "outputs": [
    {
     "name": "stdout",
     "output_type": "stream",
     "text": [
      "\n",
      "added 22 packages in 4s\n",
      "\n",
      "3 packages are looking for funding\n",
      "  run `npm fund` for details\n"
     ]
    },
    {
     "name": "stderr",
     "output_type": "stream",
     "text": [
      "npm notice \n",
      "npm notice New minor version of npm available! 10.1.0 -> 10.9.0\n",
      "npm notice Changelog: <https://github.com/npm/cli/releases/tag/v10.9.0>\n",
      "npm notice Run `npm install -g npm@10.9.0` to update!\n",
      "npm notice \n"
     ]
    }
   ],
   "source": [
    "%%bash \n",
    "npm install localtunnel"
   ]
  },
  {
   "cell_type": "code",
   "execution_count": 5,
   "metadata": {},
   "outputs": [
    {
     "name": "stdout",
     "output_type": "stream",
     "text": [
      "Password/Enpoint IP for localtunnel is: 152.203.103.48\n"
     ]
    }
   ],
   "source": [
    "print(\n",
    "    \"Password/Enpoint IP for localtunnel is:\",\n",
    "    urllib.request.urlopen(\"https://ipv4.icanhazip.com\")\n",
    "    .read()\n",
    "    .decode(\"utf8\")\n",
    "    .strip(\"\\n\"),\n",
    ")"
   ]
  },
  {
   "cell_type": "code",
   "execution_count": null,
   "metadata": {},
   "outputs": [
    {
     "name": "stdout",
     "output_type": "stream",
     "text": [
      "your url is: https://wicked-eggs-smash.loca.lt\n"
     ]
    }
   ],
   "source": [
    "%%bash\n",
    "npx localtunnel --port 8501"
   ]
  }
 ],
 "metadata": {
  "kernelspec": {
   "display_name": ".venv",
   "language": "python",
   "name": "python3"
  },
  "language_info": {
   "codemirror_mode": {
    "name": "ipython",
    "version": 3
   },
   "file_extension": ".py",
   "mimetype": "text/x-python",
   "name": "python",
   "nbconvert_exporter": "python",
   "pygments_lexer": "ipython3",
   "version": "3.11.5"
  }
 },
 "nbformat": 4,
 "nbformat_minor": 2
}
